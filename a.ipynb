{
 "cells": [
  {
   "cell_type": "code",
   "execution_count": 1,
   "metadata": {},
   "outputs": [],
   "source": [
    "import numpy as np\n",
    "import pandas as pd\n",
    "\n",
    "\n",
    "from environment import EpsilonGreedyEnvironment\n",
    "from services import DatabaseService\n",
    "\n",
    "from services.database import ActivityClusterDatabaseService,ActivityUserDatabaseService,ClusterFeatureDatabaseService\n",
    "# from subscribers import new_activity_callback, get_feed_callback, record_result_callback"
   ]
  },
  {
   "cell_type": "code",
   "execution_count": 2,
   "metadata": {},
   "outputs": [
    {
     "name": "stdout",
     "output_type": "stream",
     "text": [
      "Connected to Database Service\n"
     ]
    },
    {
     "data": {
      "text/html": [
       "<div>\n",
       "<style scoped>\n",
       "    .dataframe tbody tr th:only-of-type {\n",
       "        vertical-align: middle;\n",
       "    }\n",
       "\n",
       "    .dataframe tbody tr th {\n",
       "        vertical-align: top;\n",
       "    }\n",
       "\n",
       "    .dataframe thead th {\n",
       "        text-align: right;\n",
       "    }\n",
       "</style>\n",
       "<table border=\"1\" class=\"dataframe\">\n",
       "  <thead>\n",
       "    <tr style=\"text-align: right;\">\n",
       "      <th></th>\n",
       "      <th>cluster</th>\n",
       "      <th>feature</th>\n",
       "      <th>activityId</th>\n",
       "    </tr>\n",
       "  </thead>\n",
       "  <tbody>\n",
       "    <tr>\n",
       "      <th>0</th>\n",
       "      <td>37</td>\n",
       "      <td>dishware</td>\n",
       "      <td>5dc0607a53d7270024cee005</td>\n",
       "    </tr>\n",
       "    <tr>\n",
       "      <th>1</th>\n",
       "      <td>37</td>\n",
       "      <td>jeans</td>\n",
       "      <td>61b344f01f46d2d2cbdffbfe</td>\n",
       "    </tr>\n",
       "    <tr>\n",
       "      <th>2</th>\n",
       "      <td>149</td>\n",
       "      <td>black</td>\n",
       "      <td>60cb52366c337f51c2830335</td>\n",
       "    </tr>\n",
       "    <tr>\n",
       "      <th>3</th>\n",
       "      <td>405</td>\n",
       "      <td>light</td>\n",
       "      <td>61880657b9fba8a46f75e250</td>\n",
       "    </tr>\n",
       "    <tr>\n",
       "      <th>4</th>\n",
       "      <td>676</td>\n",
       "      <td>myvibe</td>\n",
       "      <td>616def40bb137ccf44322bb3</td>\n",
       "    </tr>\n",
       "    <tr>\n",
       "      <th>...</th>\n",
       "      <td>...</td>\n",
       "      <td>...</td>\n",
       "      <td>...</td>\n",
       "    </tr>\n",
       "    <tr>\n",
       "      <th>95276</th>\n",
       "      <td>37</td>\n",
       "      <td>ingredient</td>\n",
       "      <td>5e25a68455bd600024a0666d</td>\n",
       "    </tr>\n",
       "    <tr>\n",
       "      <th>95277</th>\n",
       "      <td>461</td>\n",
       "      <td>tableware</td>\n",
       "      <td>614448fd11d1927c26c6fa55</td>\n",
       "    </tr>\n",
       "    <tr>\n",
       "      <th>95278</th>\n",
       "      <td>194</td>\n",
       "      <td>food</td>\n",
       "      <td>5fd2174b9cf1fdb7daf5af90</td>\n",
       "    </tr>\n",
       "    <tr>\n",
       "      <th>95279</th>\n",
       "      <td>37</td>\n",
       "      <td>grey</td>\n",
       "      <td>60c4b852f1be8caa96ed531a</td>\n",
       "    </tr>\n",
       "    <tr>\n",
       "      <th>95280</th>\n",
       "      <td>194</td>\n",
       "      <td>food</td>\n",
       "      <td>617441010c9e723c3ec242bf</td>\n",
       "    </tr>\n",
       "  </tbody>\n",
       "</table>\n",
       "<p>95281 rows × 3 columns</p>\n",
       "</div>"
      ],
      "text/plain": [
       "       cluster     feature                activityId\n",
       "0           37    dishware  5dc0607a53d7270024cee005\n",
       "1           37       jeans  61b344f01f46d2d2cbdffbfe\n",
       "2          149       black  60cb52366c337f51c2830335\n",
       "3          405       light  61880657b9fba8a46f75e250\n",
       "4          676      myvibe  616def40bb137ccf44322bb3\n",
       "...        ...         ...                       ...\n",
       "95276       37  ingredient  5e25a68455bd600024a0666d\n",
       "95277      461   tableware  614448fd11d1927c26c6fa55\n",
       "95278      194        food  5fd2174b9cf1fdb7daf5af90\n",
       "95279       37        grey  60c4b852f1be8caa96ed531a\n",
       "95280      194        food  617441010c9e723c3ec242bf\n",
       "\n",
       "[95281 rows x 3 columns]"
      ]
     },
     "execution_count": 2,
     "metadata": {},
     "output_type": "execute_result"
    }
   ],
   "source": [
    "activity_cluster = pd.DataFrame.from_records(ActivityClusterDatabaseService().get_all()).drop('score',axis=1)\n",
    "activity_cluster"
   ]
  },
  {
   "cell_type": "code",
   "execution_count": 3,
   "metadata": {},
   "outputs": [
    {
     "name": "stdout",
     "output_type": "stream",
     "text": [
      "Connected to Database Service\n"
     ]
    }
   ],
   "source": [
    "cluster_feature = pd.DataFrame.from_records(ClusterFeatureDatabaseService().get_all())\n",
    "clusters = cluster_feature['cluster'].unique().tolist()"
   ]
  },
  {
   "cell_type": "code",
   "execution_count": 4,
   "metadata": {},
   "outputs": [
    {
     "data": {
      "text/plain": [
       "1132"
      ]
     },
     "execution_count": 4,
     "metadata": {},
     "output_type": "execute_result"
    }
   ],
   "source": [
    "len(clusters)"
   ]
  },
  {
   "cell_type": "code",
   "execution_count": 5,
   "metadata": {},
   "outputs": [
    {
     "name": "stdout",
     "output_type": "stream",
     "text": [
      "Connected to Database Service\n"
     ]
    },
    {
     "data": {
      "text/html": [
       "<div>\n",
       "<style scoped>\n",
       "    .dataframe tbody tr th:only-of-type {\n",
       "        vertical-align: middle;\n",
       "    }\n",
       "\n",
       "    .dataframe tbody tr th {\n",
       "        vertical-align: top;\n",
       "    }\n",
       "\n",
       "    .dataframe thead th {\n",
       "        text-align: right;\n",
       "    }\n",
       "</style>\n",
       "<table border=\"1\" class=\"dataframe\">\n",
       "  <thead>\n",
       "    <tr style=\"text-align: right;\">\n",
       "      <th></th>\n",
       "      <th>activityId</th>\n",
       "      <th>userId</th>\n",
       "      <th>score</th>\n",
       "    </tr>\n",
       "  </thead>\n",
       "  <tbody>\n",
       "    <tr>\n",
       "      <th>0</th>\n",
       "      <td>5cc51c9f3a614e0024005239</td>\n",
       "      <td>5cc51a0b3a614e0024005237</td>\n",
       "      <td>0.2</td>\n",
       "    </tr>\n",
       "    <tr>\n",
       "      <th>1</th>\n",
       "      <td>5cc51c9f3a614e0024005239</td>\n",
       "      <td>5cc70cf80c2e8f002494034a</td>\n",
       "      <td>0.2</td>\n",
       "    </tr>\n",
       "    <tr>\n",
       "      <th>2</th>\n",
       "      <td>5cc51c9f3a614e0024005239</td>\n",
       "      <td>5cc875aaa130ee002484131b</td>\n",
       "      <td>0.2</td>\n",
       "    </tr>\n",
       "    <tr>\n",
       "      <th>3</th>\n",
       "      <td>5cc51c9f3a614e0024005239</td>\n",
       "      <td>5d093a52cf30860024f61a3f</td>\n",
       "      <td>0.2</td>\n",
       "    </tr>\n",
       "    <tr>\n",
       "      <th>4</th>\n",
       "      <td>5cc51c9f3a614e0024005239</td>\n",
       "      <td>5d1b5d64e045290024275e99</td>\n",
       "      <td>0.2</td>\n",
       "    </tr>\n",
       "    <tr>\n",
       "      <th>...</th>\n",
       "      <td>...</td>\n",
       "      <td>...</td>\n",
       "      <td>...</td>\n",
       "    </tr>\n",
       "    <tr>\n",
       "      <th>212878</th>\n",
       "      <td>62accc5a4a194b6ff4e31243</td>\n",
       "      <td>62a76837c4f892b9842df1f0</td>\n",
       "      <td>0.2</td>\n",
       "    </tr>\n",
       "    <tr>\n",
       "      <th>212879</th>\n",
       "      <td>62ad5e5b4a194b6ff4e31db8</td>\n",
       "      <td>61b9f769abb948fa31191ecb</td>\n",
       "      <td>0.2</td>\n",
       "    </tr>\n",
       "    <tr>\n",
       "      <th>212880</th>\n",
       "      <td>62adb5fa4a194b6ff4e33ed4</td>\n",
       "      <td>62755cb7126cfb106f828f5b</td>\n",
       "      <td>0.2</td>\n",
       "    </tr>\n",
       "    <tr>\n",
       "      <th>212881</th>\n",
       "      <td>62adc0694a194b6ff4e341f9</td>\n",
       "      <td>616fbe1c0d67f630e59b5bad</td>\n",
       "      <td>0.2</td>\n",
       "    </tr>\n",
       "    <tr>\n",
       "      <th>212882</th>\n",
       "      <td>62ae2aa34a194b6ff4e37e9a</td>\n",
       "      <td>60c5a6baf1be8caa96ed8e2b</td>\n",
       "      <td>0.2</td>\n",
       "    </tr>\n",
       "  </tbody>\n",
       "</table>\n",
       "<p>212883 rows × 3 columns</p>\n",
       "</div>"
      ],
      "text/plain": [
       "                      activityId                    userId  score\n",
       "0       5cc51c9f3a614e0024005239  5cc51a0b3a614e0024005237    0.2\n",
       "1       5cc51c9f3a614e0024005239  5cc70cf80c2e8f002494034a    0.2\n",
       "2       5cc51c9f3a614e0024005239  5cc875aaa130ee002484131b    0.2\n",
       "3       5cc51c9f3a614e0024005239  5d093a52cf30860024f61a3f    0.2\n",
       "4       5cc51c9f3a614e0024005239  5d1b5d64e045290024275e99    0.2\n",
       "...                          ...                       ...    ...\n",
       "212878  62accc5a4a194b6ff4e31243  62a76837c4f892b9842df1f0    0.2\n",
       "212879  62ad5e5b4a194b6ff4e31db8  61b9f769abb948fa31191ecb    0.2\n",
       "212880  62adb5fa4a194b6ff4e33ed4  62755cb7126cfb106f828f5b    0.2\n",
       "212881  62adc0694a194b6ff4e341f9  616fbe1c0d67f630e59b5bad    0.2\n",
       "212882  62ae2aa34a194b6ff4e37e9a  60c5a6baf1be8caa96ed8e2b    0.2\n",
       "\n",
       "[212883 rows x 3 columns]"
      ]
     },
     "execution_count": 5,
     "metadata": {},
     "output_type": "execute_result"
    }
   ],
   "source": [
    "activity_user = pd.DataFrame.from_records(ActivityUserDatabaseService().get_all())\n",
    "activity_user"
   ]
  },
  {
   "cell_type": "code",
   "execution_count": 6,
   "metadata": {},
   "outputs": [
    {
     "data": {
      "text/html": [
       "<div>\n",
       "<style scoped>\n",
       "    .dataframe tbody tr th:only-of-type {\n",
       "        vertical-align: middle;\n",
       "    }\n",
       "\n",
       "    .dataframe tbody tr th {\n",
       "        vertical-align: top;\n",
       "    }\n",
       "\n",
       "    .dataframe thead th {\n",
       "        text-align: right;\n",
       "    }\n",
       "</style>\n",
       "<table border=\"1\" class=\"dataframe\">\n",
       "  <thead>\n",
       "    <tr style=\"text-align: right;\">\n",
       "      <th></th>\n",
       "      <th>cluster</th>\n",
       "      <th>userId</th>\n",
       "      <th>score</th>\n",
       "    </tr>\n",
       "  </thead>\n",
       "  <tbody>\n",
       "    <tr>\n",
       "      <th>0</th>\n",
       "      <td>0</td>\n",
       "      <td>5f990dc6ac37d7d071304fc7</td>\n",
       "      <td>0.2</td>\n",
       "    </tr>\n",
       "    <tr>\n",
       "      <th>1</th>\n",
       "      <td>0</td>\n",
       "      <td>5f9fec77761cfd73158a457f</td>\n",
       "      <td>0.2</td>\n",
       "    </tr>\n",
       "    <tr>\n",
       "      <th>2</th>\n",
       "      <td>0</td>\n",
       "      <td>5f9fec78761cfd73158a4581</td>\n",
       "      <td>0.2</td>\n",
       "    </tr>\n",
       "    <tr>\n",
       "      <th>3</th>\n",
       "      <td>0</td>\n",
       "      <td>5f9fec78761cfd73158a4582</td>\n",
       "      <td>0.2</td>\n",
       "    </tr>\n",
       "    <tr>\n",
       "      <th>4</th>\n",
       "      <td>0</td>\n",
       "      <td>5f9fec78761cfd73158a4583</td>\n",
       "      <td>0.2</td>\n",
       "    </tr>\n",
       "    <tr>\n",
       "      <th>...</th>\n",
       "      <td>...</td>\n",
       "      <td>...</td>\n",
       "      <td>...</td>\n",
       "    </tr>\n",
       "    <tr>\n",
       "      <th>194432</th>\n",
       "      <td>1131</td>\n",
       "      <td>5f990dc6ac37d7d071304fc7</td>\n",
       "      <td>0.2</td>\n",
       "    </tr>\n",
       "    <tr>\n",
       "      <th>194433</th>\n",
       "      <td>1131</td>\n",
       "      <td>5f9fec77761cfd73158a457f</td>\n",
       "      <td>0.2</td>\n",
       "    </tr>\n",
       "    <tr>\n",
       "      <th>194434</th>\n",
       "      <td>1131</td>\n",
       "      <td>5f9fec78761cfd73158a4581</td>\n",
       "      <td>0.2</td>\n",
       "    </tr>\n",
       "    <tr>\n",
       "      <th>194435</th>\n",
       "      <td>1131</td>\n",
       "      <td>5f9fec78761cfd73158a4582</td>\n",
       "      <td>0.2</td>\n",
       "    </tr>\n",
       "    <tr>\n",
       "      <th>194436</th>\n",
       "      <td>1131</td>\n",
       "      <td>5f9fec78761cfd73158a4583</td>\n",
       "      <td>0.2</td>\n",
       "    </tr>\n",
       "  </tbody>\n",
       "</table>\n",
       "<p>194437 rows × 3 columns</p>\n",
       "</div>"
      ],
      "text/plain": [
       "        cluster                    userId  score\n",
       "0             0  5f990dc6ac37d7d071304fc7    0.2\n",
       "1             0  5f9fec77761cfd73158a457f    0.2\n",
       "2             0  5f9fec78761cfd73158a4581    0.2\n",
       "3             0  5f9fec78761cfd73158a4582    0.2\n",
       "4             0  5f9fec78761cfd73158a4583    0.2\n",
       "...         ...                       ...    ...\n",
       "194432     1131  5f990dc6ac37d7d071304fc7    0.2\n",
       "194433     1131  5f9fec77761cfd73158a457f    0.2\n",
       "194434     1131  5f9fec78761cfd73158a4581    0.2\n",
       "194435     1131  5f9fec78761cfd73158a4582    0.2\n",
       "194436     1131  5f9fec78761cfd73158a4583    0.2\n",
       "\n",
       "[194437 rows x 3 columns]"
      ]
     },
     "execution_count": 6,
     "metadata": {},
     "output_type": "execute_result"
    }
   ],
   "source": [
    "cluster_userid_score = activity_user.merge(activity_cluster,on=\"activityId\").groupby([\"cluster\",\"userId\"]).mean().reset_index()\n",
    "cluster_userid_score"
   ]
  },
  {
   "cell_type": "code",
   "execution_count": 7,
   "metadata": {},
   "outputs": [],
   "source": [
    "epsilon = 0.4\n",
    "item_col_name = 'cluster'\n",
    "visitor_col_name = 'userId'\n",
    "\n",
    "env = EpsilonGreedyEnvironment(\n",
    "    epsilon, cluster_userid_score, clusters, item_col_name, visitor_col_name,)\n"
   ]
  },
  {
   "cell_type": "code",
   "execution_count": 8,
   "metadata": {},
   "outputs": [],
   "source": [
    "a,b,c = env.get_state()"
   ]
  },
  {
   "cell_type": "code",
   "execution_count": 9,
   "metadata": {},
   "outputs": [
    {
     "data": {
      "text/plain": [
       "True"
      ]
     },
     "execution_count": 9,
     "metadata": {},
     "output_type": "execute_result"
    }
   ],
   "source": [
    "len(a)==len(b)==len(c)"
   ]
  },
  {
   "cell_type": "code",
   "execution_count": 10,
   "metadata": {},
   "outputs": [
    {
     "data": {
      "text/html": [
       "<div>\n",
       "<style scoped>\n",
       "    .dataframe tbody tr th:only-of-type {\n",
       "        vertical-align: middle;\n",
       "    }\n",
       "\n",
       "    .dataframe tbody tr th {\n",
       "        vertical-align: top;\n",
       "    }\n",
       "\n",
       "    .dataframe thead th {\n",
       "        text-align: right;\n",
       "    }\n",
       "</style>\n",
       "<table border=\"1\" class=\"dataframe\">\n",
       "  <thead>\n",
       "    <tr style=\"text-align: right;\">\n",
       "      <th></th>\n",
       "      <th>cluster</th>\n",
       "      <th>userId</th>\n",
       "      <th>score</th>\n",
       "    </tr>\n",
       "  </thead>\n",
       "  <tbody>\n",
       "    <tr>\n",
       "      <th>0</th>\n",
       "      <td>0</td>\n",
       "      <td>5f990dc6ac37d7d071304fc7</td>\n",
       "      <td>0.2</td>\n",
       "    </tr>\n",
       "    <tr>\n",
       "      <th>1</th>\n",
       "      <td>0</td>\n",
       "      <td>5f9fec77761cfd73158a457f</td>\n",
       "      <td>0.2</td>\n",
       "    </tr>\n",
       "    <tr>\n",
       "      <th>2</th>\n",
       "      <td>0</td>\n",
       "      <td>5f9fec78761cfd73158a4581</td>\n",
       "      <td>0.2</td>\n",
       "    </tr>\n",
       "    <tr>\n",
       "      <th>3</th>\n",
       "      <td>0</td>\n",
       "      <td>5f9fec78761cfd73158a4582</td>\n",
       "      <td>0.2</td>\n",
       "    </tr>\n",
       "    <tr>\n",
       "      <th>4</th>\n",
       "      <td>0</td>\n",
       "      <td>5f9fec78761cfd73158a4583</td>\n",
       "      <td>0.2</td>\n",
       "    </tr>\n",
       "    <tr>\n",
       "      <th>...</th>\n",
       "      <td>...</td>\n",
       "      <td>...</td>\n",
       "      <td>...</td>\n",
       "    </tr>\n",
       "    <tr>\n",
       "      <th>194432</th>\n",
       "      <td>1131</td>\n",
       "      <td>5f990dc6ac37d7d071304fc7</td>\n",
       "      <td>0.2</td>\n",
       "    </tr>\n",
       "    <tr>\n",
       "      <th>194433</th>\n",
       "      <td>1131</td>\n",
       "      <td>5f9fec77761cfd73158a457f</td>\n",
       "      <td>0.2</td>\n",
       "    </tr>\n",
       "    <tr>\n",
       "      <th>194434</th>\n",
       "      <td>1131</td>\n",
       "      <td>5f9fec78761cfd73158a4581</td>\n",
       "      <td>0.2</td>\n",
       "    </tr>\n",
       "    <tr>\n",
       "      <th>194435</th>\n",
       "      <td>1131</td>\n",
       "      <td>5f9fec78761cfd73158a4582</td>\n",
       "      <td>0.2</td>\n",
       "    </tr>\n",
       "    <tr>\n",
       "      <th>194436</th>\n",
       "      <td>1131</td>\n",
       "      <td>5f9fec78761cfd73158a4583</td>\n",
       "      <td>0.2</td>\n",
       "    </tr>\n",
       "  </tbody>\n",
       "</table>\n",
       "<p>194437 rows × 3 columns</p>\n",
       "</div>"
      ],
      "text/plain": [
       "        cluster                    userId  score\n",
       "0             0  5f990dc6ac37d7d071304fc7    0.2\n",
       "1             0  5f9fec77761cfd73158a457f    0.2\n",
       "2             0  5f9fec78761cfd73158a4581    0.2\n",
       "3             0  5f9fec78761cfd73158a4582    0.2\n",
       "4             0  5f9fec78761cfd73158a4583    0.2\n",
       "...         ...                       ...    ...\n",
       "194432     1131  5f990dc6ac37d7d071304fc7    0.2\n",
       "194433     1131  5f9fec77761cfd73158a457f    0.2\n",
       "194434     1131  5f9fec78761cfd73158a4581    0.2\n",
       "194435     1131  5f9fec78761cfd73158a4582    0.2\n",
       "194436     1131  5f9fec78761cfd73158a4583    0.2\n",
       "\n",
       "[194437 rows x 3 columns]"
      ]
     },
     "execution_count": 10,
     "metadata": {},
     "output_type": "execute_result"
    }
   ],
   "source": [
    "cluster_userid_score"
   ]
  },
  {
   "cell_type": "code",
   "execution_count": 12,
   "metadata": {},
   "outputs": [],
   "source": [
    "df = cluster_userid_score.reset_index()\n",
    "\n",
    "for index, row in df.iterrows():\n",
    "    cluster_idx = a.index(row['cluster'])\n",
    "    env.record_result(None,cluster_idx,row['score'])"
   ]
  },
  {
   "cell_type": "code",
   "execution_count": 13,
   "metadata": {},
   "outputs": [],
   "source": [
    "a,b,c = env.get_state()"
   ]
  },
  {
   "cell_type": "code",
   "execution_count": 69,
   "metadata": {},
   "outputs": [
    {
     "data": {
      "text/plain": [
       "29"
      ]
     },
     "execution_count": 69,
     "metadata": {},
     "output_type": "execute_result"
    }
   ],
   "source": [
    "env.select_item()"
   ]
  },
  {
   "cell_type": "code",
   "execution_count": 70,
   "metadata": {},
   "outputs": [],
   "source": [
    "env.save_state()"
   ]
  }
 ],
 "metadata": {
  "kernelspec": {
   "display_name": "Python 3.10.4 64-bit",
   "language": "python",
   "name": "python3"
  },
  "language_info": {
   "codemirror_mode": {
    "name": "ipython",
    "version": 3
   },
   "file_extension": ".py",
   "mimetype": "text/x-python",
   "name": "python",
   "nbconvert_exporter": "python",
   "pygments_lexer": "ipython3",
   "version": "3.10.4"
  },
  "orig_nbformat": 4,
  "vscode": {
   "interpreter": {
    "hash": "369f2c481f4da34e4445cda3fffd2e751bd1c4d706f27375911949ba6bb62e1c"
   }
  }
 },
 "nbformat": 4,
 "nbformat_minor": 2
}
