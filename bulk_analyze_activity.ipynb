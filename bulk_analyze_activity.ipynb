{
 "cells": [
  {
   "cell_type": "code",
   "execution_count": 6,
   "id": "5a6f85a0",
   "metadata": {},
   "outputs": [
    {
     "ename": "ModuleNotFoundError",
     "evalue": "No module named 'google.cloud'",
     "output_type": "error",
     "traceback": [
      "\u001b[1;31m---------------------------------------------------------------------------\u001b[0m",
      "\u001b[1;31mModuleNotFoundError\u001b[0m                       Traceback (most recent call last)",
      "\u001b[1;32mc:\\Users\\fitsu\\Projects\\School\\final_project\\ultimate-feed-analyzer\\bulk_analyze_activity.ipynb Cell 1'\u001b[0m in \u001b[0;36m<cell line: 3>\u001b[1;34m()\u001b[0m\n\u001b[0;32m      <a href='vscode-notebook-cell:/c%3A/Users/fitsu/Projects/School/final_project/ultimate-feed-analyzer/bulk_analyze_activity.ipynb#ch0000000?line=0'>1</a>\u001b[0m \u001b[39mimport\u001b[39;00m \u001b[39mjson\u001b[39;00m\n\u001b[0;32m      <a href='vscode-notebook-cell:/c%3A/Users/fitsu/Projects/School/final_project/ultimate-feed-analyzer/bulk_analyze_activity.ipynb#ch0000000?line=1'>2</a>\u001b[0m \u001b[39mimport\u001b[39;00m \u001b[39mpandas\u001b[39;00m \u001b[39mas\u001b[39;00m \u001b[39mpd\u001b[39;00m\n\u001b[1;32m----> <a href='vscode-notebook-cell:/c%3A/Users/fitsu/Projects/School/final_project/ultimate-feed-analyzer/bulk_analyze_activity.ipynb#ch0000000?line=2'>3</a>\u001b[0m \u001b[39mfrom\u001b[39;00m \u001b[39mservices\u001b[39;00m \u001b[39mimport\u001b[39;00m analyzer\n\u001b[0;32m      <a href='vscode-notebook-cell:/c%3A/Users/fitsu/Projects/School/final_project/ultimate-feed-analyzer/bulk_analyze_activity.ipynb#ch0000000?line=3'>4</a>\u001b[0m \u001b[39mimport\u001b[39;00m \u001b[39mjson\u001b[39;00m\n\u001b[0;32m      <a href='vscode-notebook-cell:/c%3A/Users/fitsu/Projects/School/final_project/ultimate-feed-analyzer/bulk_analyze_activity.ipynb#ch0000000?line=4'>5</a>\u001b[0m \u001b[39mfrom\u001b[39;00m \u001b[39mtqdm\u001b[39;00m \u001b[39mimport\u001b[39;00m tqdm\n",
      "File \u001b[1;32mc:\\Users\\fitsu\\Projects\\School\\final_project\\ultimate-feed-analyzer\\services\\analyzer.py:3\u001b[0m, in \u001b[0;36m<module>\u001b[1;34m\u001b[0m\n\u001b[0;32m      1\u001b[0m \u001b[39mimport\u001b[39;00m \u001b[39mio\u001b[39;00m\n\u001b[0;32m      2\u001b[0m \u001b[39mimport\u001b[39;00m \u001b[39mos\u001b[39;00m\n\u001b[1;32m----> 3\u001b[0m \u001b[39mfrom\u001b[39;00m \u001b[39mgoogle\u001b[39;00m\u001b[39m.\u001b[39;00m\u001b[39mcloud\u001b[39;00m \u001b[39mimport\u001b[39;00m vision\n\u001b[0;32m      4\u001b[0m \u001b[39mfrom\u001b[39;00m \u001b[39mgoogle\u001b[39;00m\u001b[39m.\u001b[39;00m\u001b[39mcloud\u001b[39;00m \u001b[39mimport\u001b[39;00m language_v1\n\u001b[0;32m      5\u001b[0m \u001b[39mfrom\u001b[39;00m \u001b[39mdata_model\u001b[39;00m\u001b[39m.\u001b[39;00m\u001b[39mactivity\u001b[39;00m \u001b[39mimport\u001b[39;00m Activity\n",
      "\u001b[1;31mModuleNotFoundError\u001b[0m: No module named 'google.cloud'"
     ]
    }
   ],
   "source": [
    "import json\n",
    "import pandas as pd\n",
    "from services import analyzer\n",
    "import json\n",
    "from tqdm import tqdm\n",
    "from dotenv import load_dotenv\n",
    "import pandas as pd\n",
    "import json\n",
    "import csv\n",
    "load_dotenv()  "
   ]
  },
  {
   "cell_type": "code",
   "execution_count": null,
   "id": "1d51faad",
   "metadata": {},
   "outputs": [],
   "source": [
    "def dataLoader(path):\n",
    "    data = pd.read_csv(path,encoding = \"ISO-8859-1\")\n",
    "    return data"
   ]
  },
  {
   "cell_type": "code",
   "execution_count": null,
   "id": "577ea7a9",
   "metadata": {},
   "outputs": [],
   "source": [
    "def write_to_csv(datas, path):\n",
    "    with open(path, 'a') as f:\n",
    "        writer = csv.writer(f)\n",
    "        for data in datas:\n",
    "            writer.writerow([data.foreign_id,data.label,data.score])"
   ]
  },
  {
   "cell_type": "code",
   "execution_count": null,
   "id": "4ce80e60",
   "metadata": {},
   "outputs": [],
   "source": [
    "def analyseDataSet(df):\n",
    "    df.fillna('', inplace=True)\n",
    "    df = df.reset_index()  # make sure indexes pair with number of rows\n",
    "    for index, row in tqdm(df.head(10).iterrows(),bar_format='{l_bar}{bar:10}{r_bar}{bar:-10b}',total=len(df)):\n",
    "        try:\n",
    "            activity=analyzer.Activity(row[\"actor\"],row[\"time\"],row[\"foreign_id\"],json.loads(row[\"media\"]),row[\"caption\"])\n",
    "            response= analyzer.analyseActivity(activity)\n",
    "            write_to_csv(response, \"./data/features.csv\")\n",
    "        except:\n",
    "            print(\"Error in row:\",index)\n",
    "            continue;"
   ]
  },
  {
   "cell_type": "code",
   "execution_count": null,
   "id": "c9b06da7",
   "metadata": {},
   "outputs": [],
   "source": [
    "data=dataLoader(\"data/input.csv\")\n",
    "data.head()\n",
    "analyseDataSet(data)\n",
    "\n"
   ]
  },
  {
   "cell_type": "code",
   "execution_count": null,
   "id": "64449db4",
   "metadata": {},
   "outputs": [],
   "source": []
  }
 ],
 "metadata": {
  "kernelspec": {
   "display_name": "Python 3.10.4 64-bit",
   "language": "python",
   "name": "python3"
  },
  "language_info": {
   "codemirror_mode": {
    "name": "ipython",
    "version": 3
   },
   "file_extension": ".py",
   "mimetype": "text/x-python",
   "name": "python",
   "nbconvert_exporter": "python",
   "pygments_lexer": "ipython3",
   "version": "3.10.4"
  },
  "vscode": {
   "interpreter": {
    "hash": "369f2c481f4da34e4445cda3fffd2e751bd1c4d706f27375911949ba6bb62e1c"
   }
  }
 },
 "nbformat": 4,
 "nbformat_minor": 5
}
