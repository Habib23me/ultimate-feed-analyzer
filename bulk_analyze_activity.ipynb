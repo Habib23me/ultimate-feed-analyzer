{
 "cells": [
  {
   "cell_type": "code",
   "execution_count": null,
   "id": "5a6f85a0",
   "metadata": {},
   "outputs": [],
   "source": [
    "import json\n",
    "import pandas as pd\n",
    "from services import analyzer\n",
    "import json\n",
    "from tqdm import tqdm\n",
    "from dotenv import load_dotenv\n",
    "import pandas as pd\n",
    "import json\n",
    "import csv\n",
    "load_dotenv()  "
   ]
  },
  {
   "cell_type": "code",
   "execution_count": null,
   "id": "1d51faad",
   "metadata": {},
   "outputs": [],
   "source": [
    "def dataLoader(path):\n",
    "    data = pd.read_csv(path,encoding = \"ISO-8859-1\")\n",
    "    return data"
   ]
  },
  {
   "cell_type": "code",
   "execution_count": null,
   "id": "577ea7a9",
   "metadata": {},
   "outputs": [],
   "source": [
    "def write_to_csv(datas, path):\n",
    "    with open(path, 'a') as f:\n",
    "        writer = csv.writer(f)\n",
    "        for data in datas:\n",
    "            writer.writerow([data.foreign_id,data.label,data.score])"
   ]
  },
  {
   "cell_type": "code",
   "execution_count": null,
   "id": "4ce80e60",
   "metadata": {},
   "outputs": [],
   "source": [
    "def analyseDataSet(df):\n",
    "    df.fillna('', inplace=True)\n",
    "    df = df.reset_index()  # make sure indexes pair with number of rows\n",
    "    for index, row in tqdm(df.head(10).iterrows(),bar_format='{l_bar}{bar:10}{r_bar}{bar:-10b}',total=len(df)):\n",
    "        try:\n",
    "            activity=analyzer.Activity(row[\"actor\"],row[\"time\"],row[\"foreign_id\"],json.loads(row[\"media\"]),row[\"caption\"])\n",
    "            response= analyzer.analyseActivity(activity)\n",
    "            write_to_csv(response, \"./data/features.csv\")\n",
    "        except:\n",
    "            print(\"Error in row:\",index)\n",
    "            continue;"
   ]
  },
  {
   "cell_type": "code",
   "execution_count": null,
   "id": "c9b06da7",
   "metadata": {},
   "outputs": [],
   "source": [
    "data=dataLoader(\"data/input.csv\")\n",
    "data.head()\n",
    "analyseDataSet(data)\n",
    "\n"
   ]
  },
  {
   "cell_type": "code",
   "execution_count": null,
   "id": "64449db4",
   "metadata": {},
   "outputs": [],
   "source": []
  }
 ],
 "metadata": {
  "interpreter": {
   "hash": "31f2aee4e71d21fbe5cf8b01ff0e069b9275f58929596ceb00d14d90e3e16cd6"
  },
  "kernelspec": {
   "display_name": "Python 3.8.9 64-bit",
   "language": "python",
   "name": "python3"
  },
  "language_info": {
   "codemirror_mode": {
    "name": "ipython",
    "version": 3
   },
   "file_extension": ".py",
   "mimetype": "text/x-python",
   "name": "python",
   "nbconvert_exporter": "python",
   "pygments_lexer": "ipython3",
   "version": "3.8.9"
  },
  "vscode": {
   "interpreter": {
    "hash": "586ad1ed5c97141e2437e681efbf1ec0adcd17d830cf5af2ca3d2819e743e158"
   }
  }
 },
 "nbformat": 4,
 "nbformat_minor": 5
}
