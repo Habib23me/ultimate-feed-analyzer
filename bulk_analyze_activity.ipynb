{
    "cells": [
        {
            "cell_type": "code",
            "execution_count": 3,
            "id": "5a6f85a0",
            "metadata": {},
            "outputs": [
                {
                    "data": {
                        "text/plain": [
                            "True"
                        ]
                    },
                    "execution_count": 3,
                    "metadata": {},
                    "output_type": "execute_result"
                }
            ],
            "source": [
                "import json\n",
                "import pandas as pd\n",
                "from services import analyzer\n",
                "import json\n",
                "from tqdm import tqdm\n",
                "from dotenv import load_dotenv\n",
                "import pandas as pd\n",
                "import json\n",
                "import csv\n",
                "load_dotenv()  "
            ]
        },
        {
            "cell_type": "code",
            "execution_count": null,
            "id": "1d51faad",
            "metadata": {},
            "outputs": [],
            "source": [
                "def dataLoader(path):\n",
                "    data = pd.read_csv(path,encoding = \"ISO-8859-1\")\n",
                "    return data"
            ]
        },
        {
            "cell_type": "code",
            "execution_count": null,
            "id": "577ea7a9",
            "metadata": {},
            "outputs": [],
            "source": [
                "def write_to_csv(datas, path):\n",
                "    with open(path, 'a') as f:\n",
                "        writer = csv.writer(f)\n",
                "        for data in datas:\n",
                "            writer.writerow([data.foreign_id,data.label,data.score])"
            ]
        },
        {
            "cell_type": "code",
            "execution_count": null,
            "id": "4ce80e60",
            "metadata": {},
            "outputs": [],
            "source": [
                "def analyseDataSet(df):\n",
                "    df.fillna('', inplace=True)\n",
                "    df = df.reset_index()  # make sure indexes pair with number of rows\n",
                "    for index, row in tqdm(df.head(10).iterrows(),bar_format='{l_bar}{bar:10}{r_bar}{bar:-10b}',total=len(df)):\n",
                "        try:\n",
                "            activity=analyzer.Activity(row[\"actor\"],row[\"time\"],row[\"foreign_id\"],json.loads(row[\"media\"]),row[\"caption\"])\n",
                "            response= analyzer.analyseActivity(activity)\n",
                "            write_to_csv(response, \"./data/features.csv\")\n",
                "        except:\n",
                "            print(\"Error in row:\",index)\n",
                "            continue;"
            ]
        },
        {
            "cell_type": "code",
            "execution_count": null,
            "id": "c9b06da7",
            "metadata": {},
            "outputs": [],
            "source": [
                "data=dataLoader(\"data/input.csv\")\n",
                "data.head()\n",
                "analyseDataSet(data)\n",
                "\n"
            ]
        },
        {
            "cell_type": "code",
            "execution_count": null,
            "id": "64449db4",
            "metadata": {},
            "outputs": [],
            "source": []
        }
    ],
    "metadata": {
        "kernelspec": {
            "display_name": "Python 3.10.4 64-bit",
            "language": "python",
            "name": "python3"
        },
        "language_info": {
            "codemirror_mode": {
                "name": "ipython",
                "version": 3
            },
            "file_extension": ".py",
            "mimetype": "text/x-python",
            "name": "python",
            "nbconvert_exporter": "python",
            "pygments_lexer": "ipython3",
            "version": "3.10.4"
        },
        "vscode": {
            "interpreter": {
                "hash": "369f2c481f4da34e4445cda3fffd2e751bd1c4d706f27375911949ba6bb62e1c"
            }
        }
    },
    "nbformat": 4,
    "nbformat_minor": 5
}
