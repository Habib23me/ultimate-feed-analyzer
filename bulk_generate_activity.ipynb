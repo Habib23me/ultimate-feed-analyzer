{
 "cells": [
  {
   "cell_type": "code",
   "execution_count": null,
   "metadata": {},
   "outputs": [],
   "source": [
    "from sklearn.feature_extraction.text import TfidfVectorizer\n",
    "import matplotlib.pyplot as plt\n",
    "from sklearn.cluster import KMeans\n",
    "from tqdm import tqdm\n",
    "import pandas as pd\n",
    "import numpy as np\n",
    "import joblib as joblib\n",
    "import csv\n",
    "from sklearn.metrics import silhouette_score\n",
    "from db.ClusterFeatureStore import ClusterFeature, clusterFeatureStore\n",
    "from db.ActivityClusterStore import *\n",
    "from services.database import ClusterFeatureDatabaseService\n",
    "\n",
    "def dataLoader(path):\n",
    "    data = pd.read_csv(path,encoding = \"ISO-8859-1\")\n",
    "    return data\n",
    "\n",
    "\n",
    "def write_to_csv(datas, path):\n",
    "    with open(path, 'w') as f:\n",
    "        writer = csv.writer(f)\n",
    "        for i in range(0,len(datas)):\n",
    "            data=datas[i]\n",
    "            writer.writerow([i,','.join(data)])\n",
    "\n",
    "\n",
    "\n",
    "data=dataLoader(\"data/final_features.csv\")\n",
    "data.head()\n",
    "# data=predictCluster(\"Head\")\n",
    "# print(data)\n",
    "\n",
    "data.head()\n",
    "cfs = clusterFeatureStore.getAllClusterFeatures()\n",
    "print (len(clusterFeatureStore.getAllClusterFeatures()))\n",
    "data['cluster'] = data['feature'].apply(lambda x: clusterFeatureStore.getClusterIdForFeature(cfs, x))\n",
    "data.head()\n",
    "\n"
   ]
  },
  {
   "cell_type": "code",
   "execution_count": null,
   "metadata": {},
   "outputs": [],
   "source": [
    "data.head(20)\n",
    "# activityClusterStore = ActivityClusterStore()\n",
    "for index, row in tqdm(data.iterrows(),bar_format='{l_bar}{bar:10}{r_bar}{bar:-10b}',total=len(data)):\n",
    "    #create an activity cluster object\n",
    "    data={\n",
    "        'cluster': row['cluster'],\n",
    "        'feature': row['feature'],\n",
    "        'activityId': row['activityId'],\n",
    "        'score': row['score']\n",
    "    };\n",
    "    ClusterFeatureDatabaseService().put(data);\n",
    "    # ac = ActivityCluster(row[\"activity_id\"], row['feature'], row['score'], row['cluster'])\n",
    "    #add the activity cluster to the store\n",
    "    # activityClusterStore.putActivityCluster(ac)"
   ]
  }
 ],
 "metadata": {
  "kernelspec": {
   "display_name": "Python 3.8.8 ('base')",
   "language": "python",
   "name": "python3"
  },
  "language_info": {
   "codemirror_mode": {
    "name": "ipython",
    "version": 3
   },
   "file_extension": ".py",
   "mimetype": "text/x-python",
   "name": "python",
   "nbconvert_exporter": "python",
   "pygments_lexer": "ipython3",
   "version": "3.8.8"
  },
  "orig_nbformat": 4,
  "vscode": {
   "interpreter": {
    "hash": "586ad1ed5c97141e2437e681efbf1ec0adcd17d830cf5af2ca3d2819e743e158"
   }
  }
 },
 "nbformat": 4,
 "nbformat_minor": 2
}
