{
    "cells": [
        {
            "cell_type": "code",
            "execution_count": 1,
            "metadata": {},
            "outputs": [
                {
                    "ename": "ImportError",
                    "evalue": "cannot import name 'ClusterFeature' from 'db.ClusterFeatureStore' (c:\\Users\\fitsu\\Projects\\School\\final_project\\ultimate-feed-analyzer\\db\\ClusterFeatureStore.py)",
                    "output_type": "error",
                    "traceback": [
                        "\u001b[1;31m---------------------------------------------------------------------------\u001b[0m",
                        "\u001b[1;31mImportError\u001b[0m                               Traceback (most recent call last)",
                        "\u001b[1;32mc:\\Users\\fitsu\\Projects\\School\\final_project\\ultimate-feed-analyzer\\bulk_generate_activity.ipynb Cell 1'\u001b[0m in \u001b[0;36m<cell line: 10>\u001b[1;34m()\u001b[0m\n\u001b[0;32m      <a href='vscode-notebook-cell:/c%3A/Users/fitsu/Projects/School/final_project/ultimate-feed-analyzer/bulk_generate_activity.ipynb#ch0000000?line=7'>8</a>\u001b[0m \u001b[39mimport\u001b[39;00m \u001b[39mcsv\u001b[39;00m\n\u001b[0;32m      <a href='vscode-notebook-cell:/c%3A/Users/fitsu/Projects/School/final_project/ultimate-feed-analyzer/bulk_generate_activity.ipynb#ch0000000?line=8'>9</a>\u001b[0m \u001b[39mfrom\u001b[39;00m \u001b[39msklearn\u001b[39;00m\u001b[39m.\u001b[39;00m\u001b[39mmetrics\u001b[39;00m \u001b[39mimport\u001b[39;00m silhouette_score\n\u001b[1;32m---> <a href='vscode-notebook-cell:/c%3A/Users/fitsu/Projects/School/final_project/ultimate-feed-analyzer/bulk_generate_activity.ipynb#ch0000000?line=9'>10</a>\u001b[0m \u001b[39mfrom\u001b[39;00m \u001b[39mdb\u001b[39;00m\u001b[39m.\u001b[39;00m\u001b[39mClusterFeatureStore\u001b[39;00m \u001b[39mimport\u001b[39;00m ClusterFeature, clusterFeatureStore\n\u001b[0;32m     <a href='vscode-notebook-cell:/c%3A/Users/fitsu/Projects/School/final_project/ultimate-feed-analyzer/bulk_generate_activity.ipynb#ch0000000?line=10'>11</a>\u001b[0m \u001b[39mfrom\u001b[39;00m \u001b[39mdb\u001b[39;00m\u001b[39m.\u001b[39;00m\u001b[39mActivityClusterStore\u001b[39;00m \u001b[39mimport\u001b[39;00m \u001b[39m*\u001b[39m\n\u001b[0;32m     <a href='vscode-notebook-cell:/c%3A/Users/fitsu/Projects/School/final_project/ultimate-feed-analyzer/bulk_generate_activity.ipynb#ch0000000?line=11'>12</a>\u001b[0m \u001b[39mfrom\u001b[39;00m \u001b[39mservices\u001b[39;00m\u001b[39m.\u001b[39;00m\u001b[39mdatabase\u001b[39;00m \u001b[39mimport\u001b[39;00m ClusterFeatureDatabaseService\n",
                        "\u001b[1;31mImportError\u001b[0m: cannot import name 'ClusterFeature' from 'db.ClusterFeatureStore' (c:\\Users\\fitsu\\Projects\\School\\final_project\\ultimate-feed-analyzer\\db\\ClusterFeatureStore.py)"
                    ]
                }
            ],
            "source": [
                "from tqdm import tqdm\n",
                "import pandas as pd\n",
                "import csv\n",
                "from services.database import ClusterFeatureDatabaseService"
            ]
        },
        {
            "cell_type": "code",
            "execution_count": null,
            "metadata": {},
            "outputs": [],
            "source": [
                "\n",
                "def dataLoader(path):\n",
                "    data = pd.read_csv(path,encoding = \"ISO-8859-1\")\n",
                "    return data\n",
                "\n",
                "\n",
                "def write_to_csv(datas, path):\n",
                "    with open(path, 'w') as f:\n",
                "        writer = csv.writer(f)\n",
                "        for i in range(0,len(datas)):\n",
                "            data=datas[i]\n",
                "            writer.writerow([i,','.join(data)])\n",
                "\n",
                "\n",
                "\n",
                "data=dataLoader(\"data/final_features.csv\")\n",
                "data.head()\n",
                "cfs = ClusterFeatureDatabaseService().get_all()\n",
                "data['cluster'] = data['feature'].apply(lambda x: ClusterFeatureDatabaseService().getClusterIdForFeature(cfs, x))\n",
                "data.head()"
            ]
        },
        {
            "cell_type": "code",
            "execution_count": null,
            "metadata": {},
            "outputs": [],
            "source": [
                "data.head(20)\n",
                "for index, row in tqdm(data.iterrows(),bar_format='{l_bar}{bar:10}{r_bar}{bar:-10b}',total=len(data)):\n",
                "    data={\n",
                "        'cluster': row['cluster'],\n",
                "        'feature': row['feature'],\n",
                "        'activityId': row['activityId'],\n",
                "        'score': row['score']\n",
                "    };\n",
                "    ClusterFeatureDatabaseService().put(data);"
            ]
        }
    ],
    "metadata": {
        "interpreter": {
            "hash": "31f2aee4e71d21fbe5cf8b01ff0e069b9275f58929596ceb00d14d90e3e16cd6"
        },
        "kernelspec": {
            "display_name": "Python 3.8.9 64-bit",
            "language": "python",
            "name": "python3"
        },
        "language_info": {
            "codemirror_mode": {
                "name": "ipython",
                "version": 3
            },
            "file_extension": ".py",
            "mimetype": "text/x-python",
            "name": "python",
            "nbconvert_exporter": "python",
            "pygments_lexer": "ipython3",
            "version": "3.8.9"
        },
        "orig_nbformat": 4,
        "vscode": {
            "interpreter": {
                "hash": "369f2c481f4da34e4445cda3fffd2e751bd1c4d706f27375911949ba6bb62e1c"
            }
        }
    },
    "nbformat": 4,
    "nbformat_minor": 2
}
