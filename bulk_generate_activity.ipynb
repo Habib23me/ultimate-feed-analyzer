{
 "cells": [
  {
   "cell_type": "code",
   "execution_count": null,
   "metadata": {},
   "outputs": [],
   "source": [
    "from tqdm import tqdm\n",
    "import pandas as pd\n",
    "import csv\n",
    "from services.database import ClusterFeatureDatabaseService"
   ]
  },
  {
   "cell_type": "code",
   "execution_count": null,
   "metadata": {},
   "outputs": [],
   "source": [
    "\n",
    "def dataLoader(path):\n",
    "    data = pd.read_csv(path,encoding = \"ISO-8859-1\")\n",
    "    return data\n",
    "\n",
    "\n",
    "def write_to_csv(datas, path):\n",
    "    with open(path, 'w') as f:\n",
    "        writer = csv.writer(f)\n",
    "        for i in range(0,len(datas)):\n",
    "            data=datas[i]\n",
    "            writer.writerow([i,','.join(data)])\n",
    "\n",
    "\n",
    "\n",
    "data=dataLoader(\"data/final_features.csv\")\n",
    "data.head()\n",
    "cfs = ClusterFeatureDatabaseService().get_all()\n",
    "data['cluster'] = data['feature'].apply(lambda x: ClusterFeatureDatabaseService().getClusterIdForFeature(cfs, x))\n",
    "data.head()"
   ]
  },
  {
   "cell_type": "code",
   "execution_count": null,
   "metadata": {},
   "outputs": [],
   "source": [
    "data.head(20)\n",
    "for index, row in tqdm(data.iterrows(),bar_format='{l_bar}{bar:10}{r_bar}{bar:-10b}',total=len(data)):\n",
    "    data={\n",
    "        'cluster': row['cluster'],\n",
    "        'feature': row['feature'],\n",
    "        'activityId': row['activityId'],\n",
    "        'score': row['score']\n",
    "    };\n",
    "    ClusterFeatureDatabaseService().put(data);"
   ]
  }
 ],
 "metadata": {
  "interpreter": {
   "hash": "31f2aee4e71d21fbe5cf8b01ff0e069b9275f58929596ceb00d14d90e3e16cd6"
  },
  "kernelspec": {
   "display_name": "Python 3.8.9 64-bit",
   "language": "python",
   "name": "python3"
  },
  "language_info": {
   "codemirror_mode": {
    "name": "ipython",
    "version": 3
   },
   "file_extension": ".py",
   "mimetype": "text/x-python",
   "name": "python",
   "nbconvert_exporter": "python",
   "pygments_lexer": "ipython3",
   "version": "3.8.9"
  },
  "orig_nbformat": 4,
  "vscode": {
   "interpreter": {
    "hash": "586ad1ed5c97141e2437e681efbf1ec0adcd17d830cf5af2ca3d2819e743e158"
   }
  }
 },
 "nbformat": 4,
 "nbformat_minor": 2
}
