{
 "cells": [
  {
   "cell_type": "code",
   "execution_count": null,
   "metadata": {},
   "outputs": [],
   "source": [
    "from tqdm import tqdm\n",
    "import pandas as pd\n",
    "from services.database import ActivityUserDatabaseService"
   ]
  },
  {
   "cell_type": "code",
   "execution_count": null,
   "metadata": {},
   "outputs": [],
   "source": [
    "def dataLoader(path):\n",
    "    data = pd.read_csv(path, encoding=\"ISO-8859-1\")\n",
    "    return data\n",
    "\n",
    "\n",
    "data = dataLoader(\"data/vibelikers.csv\")\n",
    "data.head()\n"
   ]
  },
  {
   "cell_type": "code",
   "execution_count": null,
   "metadata": {},
   "outputs": [],
   "source": [
    "\n",
    "# activityUserStore = ActivityUserStore()\n",
    "for index, row in tqdm(data.iterrows(), bar_format='{l_bar}{bar:10}{r_bar}{bar:-10b}', total=len(data)):\n",
    "    # au = ActivityUser(str(row['vibeId']), str(row['userId']), 1)\n",
    "    # activityUserStore.putActivityUser(au)\n",
    "    ActivityUserDatabaseService().put({\n",
    "        \"activityId\": row['vibeId'],\n",
    "        \"userId\": row['userId'],\n",
    "        \"score\": 0.2,\n",
    "    },\n",
    "        str(row['vibeId'])+\"_\"+str(row['userId']))\n"
   ]
  },
  {
   "cell_type": "code",
   "execution_count": null,
   "metadata": {},
   "outputs": [],
   "source": [
    "aus = ActivityUserDatabaseService().get_all()\n",
    "print(len(aus))\n",
    "for au in aus:\n",
    "    print(au[\"activityId\"],  au[\"userId\"], str(au[\"score\"]))\n"
   ]
  }
 ],
 "metadata": {
  "kernelspec": {
   "display_name": "Python 3.10.4 64-bit",
   "language": "python",
   "name": "python3"
  },
  "language_info": {
   "codemirror_mode": {
    "name": "ipython",
    "version": 3
   },
   "file_extension": ".py",
   "mimetype": "text/x-python",
   "name": "python",
   "nbconvert_exporter": "python",
   "pygments_lexer": "ipython3",
   "version": "3.10.4"
  },
  "orig_nbformat": 4,
  "vscode": {
   "interpreter": {
    "hash": "369f2c481f4da34e4445cda3fffd2e751bd1c4d706f27375911949ba6bb62e1c"
   }
  }
 },
 "nbformat": 4,
 "nbformat_minor": 2
}
