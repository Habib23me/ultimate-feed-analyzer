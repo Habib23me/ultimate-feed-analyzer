{
 "cells": [
  {
   "cell_type": "code",
   "execution_count": 3,
   "id": "bd13a62c",
   "metadata": {},
   "outputs": [
    {
     "name": "stdout",
     "output_type": "stream",
     "text": [
      "db/cluster_feature.db\n"
     ]
    }
   ],
   "source": [
    "from sklearn.feature_extraction.text import TfidfVectorizer\n",
    "import matplotlib.pyplot as plt\n",
    "from sklearn.cluster import KMeans\n",
    "from tqdm import tqdm\n",
    "import pandas as pd\n",
    "import numpy as np\n",
    "import joblib as joblib\n",
    "import csv\n",
    "from sklearn.metrics import silhouette_score\n",
    "from db.ClusterFeatureStore import ClusterFeature, clusterFeatureStore"
   ]
  },
  {
   "cell_type": "code",
   "execution_count": 2,
   "id": "dec5b4f3",
   "metadata": {},
   "outputs": [],
   "source": [
    "def dataLoader(path):\n",
    "    data = pd.read_csv(path,encoding = \"ISO-8859-1\")\n",
    "    return data"
   ]
  },
  {
   "cell_type": "code",
   "execution_count": 1,
   "id": "1aeeb57c",
   "metadata": {},
   "outputs": [],
   "source": [
    "arrayOfWords=[];\n",
    "def groupDataSet(df):\n",
    "    df.fillna('', inplace=True)\n",
    "    df = df.reset_index()  # make sure indexes pair with number of rows\n",
    "  \n",
    "    for index, row in tqdm(df.iterrows(),bar_format='{l_bar}{bar:10}{r_bar}{bar:-10b}',total=len(df)):\n",
    "       # add the feature to the array if it has not been added yet case insensitive\n",
    "         if row['feature'] not in arrayOfWords:\n",
    "            arrayOfWords.append(row['feature'])\n",
    "            # 1132"
   ]
  },
  {
   "cell_type": "code",
   "execution_count": 4,
   "id": "0e31004f",
   "metadata": {},
   "outputs": [
    {
     "name": "stderr",
     "output_type": "stream",
     "text": [
      "100%|██████████| 95281/95281 [00:10<00:00, 8851.21it/s]\n"
     ]
    }
   ],
   "source": [
    "data=dataLoader(\"data/final_features.csv\")\n",
    "data.head()\n",
    "model=groupDataSet(data)\n",
    "# data=predictCluster(\"Head\")\n",
    "# print(data)"
   ]
  },
  {
   "cell_type": "code",
   "execution_count": 18,
   "id": "dd468d8d",
   "metadata": {},
   "outputs": [
    {
     "name": "stdout",
     "output_type": "stream",
     "text": [
      "0\n"
     ]
    }
   ],
   "source": [
    "data.head()\n",
    "clusterFeatureStore.getAllClusterFeatures()\n",
    "print (len(clusterFeatureStore.getAllClusterFeatures()))\n",
    "# data['cluster'] = data['feature'].apply(lambda x: cfs.getClusterIdForFeature(x))\n",
    "\n",
    "\n"
   ]
  },
  {
   "cell_type": "markdown",
   "id": "d85a7779",
   "metadata": {},
   "source": []
  }
 ],
 "metadata": {
  "kernelspec": {
   "display_name": "Python 3.8.8 ('base')",
   "language": "python",
   "name": "python3"
  },
  "language_info": {
   "codemirror_mode": {
    "name": "ipython",
    "version": 3
   },
   "file_extension": ".py",
   "mimetype": "text/x-python",
   "name": "python",
   "nbconvert_exporter": "python",
   "pygments_lexer": "ipython3",
   "version": "3.8.8"
  },
  "vscode": {
   "interpreter": {
    "hash": "586ad1ed5c97141e2437e681efbf1ec0adcd17d830cf5af2ca3d2819e743e158"
   }
  }
 },
 "nbformat": 4,
 "nbformat_minor": 5
}
