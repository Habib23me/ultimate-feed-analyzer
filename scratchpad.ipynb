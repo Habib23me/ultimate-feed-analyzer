{
 "cells": [
  {
   "cell_type": "code",
   "execution_count": null,
   "metadata": {},
   "outputs": [],
   "source": [
    "  \n",
    "#     Sum_of_squared_distances = []\n",
    "#     K = range(2,100)\n",
    "#     for k in K:\n",
    "#        km = KMeans(n_clusters=k, max_iter=200, n_init=10)\n",
    "#        km = km.fit(X)\n",
    "#        Sum_of_squared_distances.append(km.inertia_)\n",
    "#     plt.plot(K, Sum_of_squared_distances, 'bx-')\n",
    "#     plt.xlabel('k')\n",
    "#     plt.ylabel('Sum_of_squared_distances')\n",
    "#     plt.title('Elbow Method For Optimal k')\n",
    "#     plt.show()\n",
    "\n",
    "    # print('How many clusters do you want to use?')\n",
    "    # true_k = int(input())\n",
    "    # predict which cluster newWord belongs to\n",
    "    # newWord_cluster = model.predict(vectorizer.transform([newWord]))\n",
    "#     import numpy as np\n",
    "# from sklearn.cluster import AffinityPropagation\n",
    "# import distance\n",
    "\n",
    "# def analyse_1(data):\n",
    "#     words = np.asarray(data) #So that indexing with a list will work\n",
    "#     lev_similarity = -1*np.array([[distance.levenshtein(w1,w2) for w1 in words] for w2 in words])\n",
    "\n",
    "#     affprop = AffinityPropagation(affinity=\"precomputed\", damping=0.5)\n",
    "#     affprop.fit(lev_similarity)\n",
    "#     for cluster_id in np.unique(affprop.labels_):\n",
    "#         exemplar = words[affprop.cluster_centers_indices_[cluster_id]]\n",
    "#         cluster = np.unique(words[np.nonzero(affprop.labels_==cluster_id)])\n",
    "#         cluster_str = \", \".join(cluster)\n",
    "#         print(\" - *%s:* %s\" % (exemplar, cluster_str))\n",
    "    \n",
    "# import nltk\n",
    "# import pandas\n",
    "# import pprint\n",
    "# import numpy as np\n",
    "# import pandas as pd\n",
    "# from sklearn import cluster\n",
    "# from sklearn import metrics\n",
    "# from gensim.models import Word2Vec\n",
    "# from nltk.cluster import KMeansClusterer\n",
    "# from sklearn.metrics import adjusted_rand_score\n",
    "# from sklearn.metrics.pairwise import cosine_similarity\n",
    "# from sklearn.decomposition import NMF\n",
    "\n",
    "# def cluster_word_to_evac(word_list):\n",
    "#     min_count = 2\n",
    "#     size = 500\n",
    "#     window = 4\n",
    "\n",
    "#     model = Word2Vec(word_list, min_count=min_count, vector_size=size, window=window)\n",
    "#     X = np.asarray(model.wv.vectors)\n",
    "# #     labels = np.asarray(model.wv.index_to_key) \n",
    "# #     X = model[model.wv.index_to_key]\n",
    "\n",
    "#     print(len(X))\n",
    "\n",
    "#     clusters_number = 26\n",
    "    # kclusterer = KMeansClusterer(clusters_number,  distance=nltk.cluster.util.cosine_distance, repeats=25)\n",
    "\n",
    "    # assigned_clusters = kclusterer.cluster(X, assign_clusters=True)\n",
    "\n",
    "    # words = list(model.wv.index_to_key)\n",
    "    # for i, word in enumerate(words):  \n",
    "    #     print (word + \":\" + str(assigned_clusters[i]))\n",
    "\n",
    "    # kmeans = cluster.KMeans(n_clusters = clusters_number)\n",
    "    # kmeans.fit(X)\n",
    "\n",
    "    # labels = kmeans.labels_\n",
    "    # centroids = kmeans.cluster_centers_\n",
    "\n",
    "    # clusters = {}\n",
    "    # score = silhouette_score(X, labels, metric='euclidean')\n",
    "\n",
    "    # print('Silhouetter Score: %.3f' % score)\n",
    "    # for commentaires, label in zip(word_list, labels):\n",
    "    #     try:\n",
    "    #         clusters[str(label)].append(commentaires)\n",
    "    #     except:\n",
    "    #        clusters[str(label)] = [commentaires]\n",
    "    # pprint.pprint(clusters)"
   ]
  },
  {
   "cell_type": "code",
   "execution_count": 5,
   "metadata": {},
   "outputs": [],
   "source": [
    "\n",
    "from services.database import ActivityClusterDatabaseService,ActivityUserDatabaseService"
   ]
  },
  {
   "cell_type": "code",
   "execution_count": 6,
   "metadata": {},
   "outputs": [
    {
     "ename": "TypeError",
     "evalue": "object.__init__() takes exactly one argument (the instance to initialize)",
     "output_type": "error",
     "traceback": [
      "\u001b[0;31m---------------------------------------------------------------------------\u001b[0m",
      "\u001b[0;31mTypeError\u001b[0m                                 Traceback (most recent call last)",
      "\u001b[1;32m/Users/habib/Desktop/aait/ultimate_feed_nlp/scratchpad.ipynb Cell 3'\u001b[0m in \u001b[0;36m<cell line: 2>\u001b[0;34m()\u001b[0m\n\u001b[1;32m      <a href='vscode-notebook-cell:/Users/habib/Desktop/aait/ultimate_feed_nlp/scratchpad.ipynb#ch0000002?line=0'>1</a>\u001b[0m \u001b[39m# ActivityClusterDatabaseService().get_all()\u001b[39;00m\n\u001b[0;32m----> <a href='vscode-notebook-cell:/Users/habib/Desktop/aait/ultimate_feed_nlp/scratchpad.ipynb#ch0000002?line=1'>2</a>\u001b[0m ActivityUserDatabaseService()\u001b[39m.\u001b[39mget_all()\n",
      "File \u001b[0;32m~/Desktop/aait/ultimate_feed_nlp/util/Singleton.py:6\u001b[0m, in \u001b[0;36mSingleton.__call__\u001b[0;34m(cls, *args, **kwargs)\u001b[0m\n\u001b[1;32m      <a href='file:///Users/habib/Desktop/aait/ultimate_feed_nlp/util/Singleton.py?line=3'>4</a>\u001b[0m \u001b[39mdef\u001b[39;00m \u001b[39m__call__\u001b[39m(\u001b[39mcls\u001b[39m, \u001b[39m*\u001b[39margs, \u001b[39m*\u001b[39m\u001b[39m*\u001b[39mkwargs):\n\u001b[1;32m      <a href='file:///Users/habib/Desktop/aait/ultimate_feed_nlp/util/Singleton.py?line=4'>5</a>\u001b[0m     \u001b[39mif\u001b[39;00m \u001b[39mcls\u001b[39m \u001b[39mnot\u001b[39;00m \u001b[39min\u001b[39;00m \u001b[39mcls\u001b[39m\u001b[39m.\u001b[39m_instances:\n\u001b[0;32m----> <a href='file:///Users/habib/Desktop/aait/ultimate_feed_nlp/util/Singleton.py?line=5'>6</a>\u001b[0m         \u001b[39mcls\u001b[39m\u001b[39m.\u001b[39m_instances[\u001b[39mcls\u001b[39m] \u001b[39m=\u001b[39m \u001b[39msuper\u001b[39;49m(\n\u001b[1;32m      <a href='file:///Users/habib/Desktop/aait/ultimate_feed_nlp/util/Singleton.py?line=6'>7</a>\u001b[0m             Singleton, \u001b[39mcls\u001b[39;49m)\u001b[39m.\u001b[39;49m\u001b[39m__call__\u001b[39;49m(\u001b[39m*\u001b[39;49margs, \u001b[39m*\u001b[39;49m\u001b[39m*\u001b[39;49mkwargs)\n\u001b[1;32m      <a href='file:///Users/habib/Desktop/aait/ultimate_feed_nlp/util/Singleton.py?line=7'>8</a>\u001b[0m     \u001b[39mreturn\u001b[39;00m \u001b[39mcls\u001b[39m\u001b[39m.\u001b[39m_instances[\u001b[39mcls\u001b[39m]\n",
      "File \u001b[0;32m~/Desktop/aait/ultimate_feed_nlp/services/database.py:60\u001b[0m, in \u001b[0;36mActivityUserDatabaseService.__init__\u001b[0;34m(self)\u001b[0m\n\u001b[1;32m     <a href='file:///Users/habib/Desktop/aait/ultimate_feed_nlp/services/database.py?line=58'>59</a>\u001b[0m \u001b[39mdef\u001b[39;00m \u001b[39m__init__\u001b[39m(\u001b[39mself\u001b[39m, ):\n\u001b[0;32m---> <a href='file:///Users/habib/Desktop/aait/ultimate_feed_nlp/services/database.py?line=59'>60</a>\u001b[0m     \u001b[39msuper\u001b[39;49m(DatabaseService, \u001b[39mself\u001b[39;49m)\u001b[39m.\u001b[39;49m\u001b[39m__init__\u001b[39;49m(\n\u001b[1;32m     <a href='file:///Users/habib/Desktop/aait/ultimate_feed_nlp/services/database.py?line=60'>61</a>\u001b[0m         os\u001b[39m.\u001b[39;49menviron[\u001b[39m'\u001b[39;49m\u001b[39mDB_ACTIVITY_USER_LOC\u001b[39;49m\u001b[39m'\u001b[39;49m])\n",
      "\u001b[0;31mTypeError\u001b[0m: object.__init__() takes exactly one argument (the instance to initialize)"
     ]
    }
   ],
   "source": [
    "# ActivityClusterDatabaseService().get_all()\n",
    "ActivityUserDatabaseService().get_all()"
   ]
  }
 ],
 "metadata": {
  "interpreter": {
   "hash": "31f2aee4e71d21fbe5cf8b01ff0e069b9275f58929596ceb00d14d90e3e16cd6"
  },
  "kernelspec": {
   "display_name": "Python 3.8.9 64-bit",
   "language": "python",
   "name": "python3"
  },
  "language_info": {
   "codemirror_mode": {
    "name": "ipython",
    "version": 3
   },
   "file_extension": ".py",
   "mimetype": "text/x-python",
   "name": "python",
   "nbconvert_exporter": "python",
   "pygments_lexer": "ipython3",
   "version": "3.8.9"
  },
  "orig_nbformat": 4
 },
 "nbformat": 4,
 "nbformat_minor": 2
}
